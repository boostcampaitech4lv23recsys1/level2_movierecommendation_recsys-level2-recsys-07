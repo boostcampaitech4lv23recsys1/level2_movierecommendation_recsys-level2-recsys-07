{
 "cells": [
  {
   "cell_type": "code",
   "execution_count": 1,
   "metadata": {},
   "outputs": [],
   "source": [
    "import pandas as pd\n",
    "import os\n",
    "\n",
    "raw_file = \"/opt/ml/input/data/train/train_ratings.csv\"\n",
    "target_dir = os.path.join('/opt/ml/input/data/', \"recbole\")\n",
    "name = \"train.inter\"\n",
    "\n",
    "os.makedirs(target_dir, exist_ok=True)\n",
    "\n",
    "df = pd.read_csv(raw_file)"
   ]
  },
  {
   "cell_type": "code",
   "execution_count": 2,
   "metadata": {},
   "outputs": [
    {
     "name": "stdout",
     "output_type": "stream",
     "text": [
      "Done!\n"
     ]
    }
   ],
   "source": [
    "df = df.rename(\n",
    "    columns={\n",
    "        \"user\": \"user_id:token\",\n",
    "        \"item\": \"item_id:token\",\n",
    "        \"time\": \"timestamp:float\",\n",
    "    }\n",
    ")\n",
    "df.to_csv(os.path.join(target_dir, name), index=False, sep=\"\\t\")\n",
    "print(\"Done!\")"
   ]
  },
  {
   "attachments": {},
   "cell_type": "markdown",
   "metadata": {},
   "source": [
    "# kakao data 생성"
   ]
  },
  {
   "cell_type": "code",
   "execution_count": 57,
   "metadata": {},
   "outputs": [],
   "source": [
    "import pandas as pd\n",
    "import os\n",
    "\n",
    "raw_file = \"/opt/ml/input/kakao/arena_data/kakao_data.csv\"\n",
    "target_dir = os.path.join('/opt/ml/input/kakao/arena_data/', \"recbole\")\n",
    "name = \"kakao_data.inter\"\n",
    "\n",
    "os.makedirs(target_dir, exist_ok=True)\n",
    "\n",
    "df = pd.read_csv(raw_file)"
   ]
  },
  {
   "cell_type": "code",
   "execution_count": 59,
   "metadata": {},
   "outputs": [
    {
     "name": "stdout",
     "output_type": "stream",
     "text": [
      "Done!\n"
     ]
    }
   ],
   "source": [
    "df = df.rename(\n",
    "    columns={\n",
    "        \"list\": \"user_id:token\",\n",
    "        \"song\": \"item_id:token\",\n",
    "    }\n",
    ")\n",
    "df.to_csv(os.path.join(target_dir, name), index=False, sep=\"\\t\")\n",
    "print(\"Done!\")"
   ]
  }
 ],
 "metadata": {
  "kernelspec": {
   "display_name": "movie_rec",
   "language": "python",
   "name": "python3"
  },
  "language_info": {
   "codemirror_mode": {
    "name": "ipython",
    "version": 3
   },
   "file_extension": ".py",
   "mimetype": "text/x-python",
   "name": "python",
   "nbconvert_exporter": "python",
   "pygments_lexer": "ipython3",
   "version": "3.8.15"
  },
  "orig_nbformat": 4,
  "vscode": {
   "interpreter": {
    "hash": "3d4ebc8f5be3b9760b7b8c89820e25f6cc4c8c3873d1ecd46134e38c918e05a9"
   }
  }
 },
 "nbformat": 4,
 "nbformat_minor": 2
}
