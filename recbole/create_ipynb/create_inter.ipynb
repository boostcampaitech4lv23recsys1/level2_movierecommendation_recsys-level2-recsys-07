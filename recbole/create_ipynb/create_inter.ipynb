{
 "cells": [
  {
   "cell_type": "code",
   "execution_count": 1,
   "metadata": {},
   "outputs": [],
   "source": [
    "import pandas as pd\n",
    "import os\n",
    "\n",
    "raw_file = \"/opt/ml/input/data/train/train_ratings.csv\"\n",
    "target_dir = os.path.join('/opt/ml/input/data/', \"recbole\")\n",
    "name = \"train.inter\"\n",
    "\n",
    "os.makedirs(target_dir, exist_ok=True)\n",
    "\n",
    "df = pd.read_csv(raw_file)"
   ]
  },
  {
   "cell_type": "code",
   "execution_count": null,
   "metadata": {},
   "outputs": [],
   "source": [
    "df = df.rename(\n",
    "    columns={\n",
    "        \"user\": \"user_id:token\",\n",
    "        \"item\": \"item_id:token\",\n",
    "        \"time\": \"timestamp:float\",\n",
    "    }\n",
    ")\n",
    "df.to_csv(os.path.join(target_dir, name), index=False, sep=\"\\t\")\n",
    "print(\"Done!\")"
   ]
  }
 ],
 "metadata": {
  "kernelspec": {
   "display_name": "recbole",
   "language": "python",
   "name": "python3"
  },
  "language_info": {
   "codemirror_mode": {
    "name": "ipython",
    "version": 3
   },
   "file_extension": ".py",
   "mimetype": "text/x-python",
   "name": "python",
   "nbconvert_exporter": "python",
   "pygments_lexer": "ipython3",
   "version": "3.7.15 (default, Nov 24 2022, 21:12:53) \n[GCC 11.2.0]"
  },
  "orig_nbformat": 4,
  "vscode": {
   "interpreter": {
    "hash": "6a17f5d7f65aafa62cc4054b3c810fbf96b404e241e2b813ba4cd864a199129e"
   }
  }
 },
 "nbformat": 4,
 "nbformat_minor": 2
}
