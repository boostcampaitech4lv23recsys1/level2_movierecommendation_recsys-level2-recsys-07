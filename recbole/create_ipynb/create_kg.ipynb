{
 "cells": [
  {
   "cell_type": "code",
   "execution_count": 189,
   "metadata": {},
   "outputs": [],
   "source": [
    "import numpy as np\n",
    "import pandas as pd\n",
    "from itertools import combinations\n",
    "from collections import defaultdict\n",
    "from sklearn.model_selection import train_test_split"
   ]
  },
  {
   "cell_type": "code",
   "execution_count": 190,
   "metadata": {},
   "outputs": [],
   "source": [
    "data_path = '/opt/ml/input/data/train/'\n",
    "train_df = pd.read_csv('/opt/ml/input/data/train/train_ratings.csv')"
   ]
  },
  {
   "cell_type": "code",
   "execution_count": 191,
   "metadata": {},
   "outputs": [],
   "source": [
    "directors = pd.read_csv(data_path + 'directors.tsv', sep='\\t')\n",
    "genres= pd.read_csv(data_path + 'genres.tsv', sep='\\t')\n",
    "titles = pd.read_csv(data_path + 'titles.tsv', sep='\\t')\n",
    "writers = pd.read_csv(data_path + 'writers.tsv', sep='\\t')\n",
    "years = pd.read_csv(data_path + 'years.tsv', sep='\\t')"
   ]
  },
  {
   "cell_type": "code",
   "execution_count": 192,
   "metadata": {},
   "outputs": [
    {
     "data": {
      "text/html": [
       "<div>\n",
       "<style scoped>\n",
       "    .dataframe tbody tr th:only-of-type {\n",
       "        vertical-align: middle;\n",
       "    }\n",
       "\n",
       "    .dataframe tbody tr th {\n",
       "        vertical-align: top;\n",
       "    }\n",
       "\n",
       "    .dataframe thead th {\n",
       "        text-align: right;\n",
       "    }\n",
       "</style>\n",
       "<table border=\"1\" class=\"dataframe\">\n",
       "  <thead>\n",
       "    <tr style=\"text-align: right;\">\n",
       "      <th></th>\n",
       "      <th>item</th>\n",
       "      <th>writer</th>\n",
       "    </tr>\n",
       "  </thead>\n",
       "  <tbody>\n",
       "    <tr>\n",
       "      <th>0</th>\n",
       "      <td>1237</td>\n",
       "      <td>nm0000005</td>\n",
       "    </tr>\n",
       "    <tr>\n",
       "      <th>1</th>\n",
       "      <td>5147</td>\n",
       "      <td>nm0000005</td>\n",
       "    </tr>\n",
       "    <tr>\n",
       "      <th>2</th>\n",
       "      <td>7327</td>\n",
       "      <td>nm0000005</td>\n",
       "    </tr>\n",
       "    <tr>\n",
       "      <th>3</th>\n",
       "      <td>2068</td>\n",
       "      <td>nm0000005</td>\n",
       "    </tr>\n",
       "    <tr>\n",
       "      <th>4</th>\n",
       "      <td>7396</td>\n",
       "      <td>nm0000005</td>\n",
       "    </tr>\n",
       "    <tr>\n",
       "      <th>...</th>\n",
       "      <td>...</td>\n",
       "      <td>...</td>\n",
       "    </tr>\n",
       "    <tr>\n",
       "      <th>11301</th>\n",
       "      <td>27397</td>\n",
       "      <td>nm5371819</td>\n",
       "    </tr>\n",
       "    <tr>\n",
       "      <th>11302</th>\n",
       "      <td>2987</td>\n",
       "      <td>nm5927607</td>\n",
       "    </tr>\n",
       "    <tr>\n",
       "      <th>11303</th>\n",
       "      <td>33463</td>\n",
       "      <td>nm5927607</td>\n",
       "    </tr>\n",
       "    <tr>\n",
       "      <th>11304</th>\n",
       "      <td>2987</td>\n",
       "      <td>nm5927608</td>\n",
       "    </tr>\n",
       "    <tr>\n",
       "      <th>11305</th>\n",
       "      <td>33463</td>\n",
       "      <td>nm5927608</td>\n",
       "    </tr>\n",
       "  </tbody>\n",
       "</table>\n",
       "<p>11306 rows × 2 columns</p>\n",
       "</div>"
      ],
      "text/plain": [
       "        item     writer\n",
       "0       1237  nm0000005\n",
       "1       5147  nm0000005\n",
       "2       7327  nm0000005\n",
       "3       2068  nm0000005\n",
       "4       7396  nm0000005\n",
       "...      ...        ...\n",
       "11301  27397  nm5371819\n",
       "11302   2987  nm5927607\n",
       "11303  33463  nm5927607\n",
       "11304   2987  nm5927608\n",
       "11305  33463  nm5927608\n",
       "\n",
       "[11306 rows x 2 columns]"
      ]
     },
     "execution_count": 192,
     "metadata": {},
     "output_type": "execute_result"
    }
   ],
   "source": [
    "writers"
   ]
  },
  {
   "cell_type": "code",
   "execution_count": 193,
   "metadata": {},
   "outputs": [],
   "source": [
    "director_series = directors.groupby('director').apply(lambda r: list(r.item))"
   ]
  },
  {
   "cell_type": "code",
   "execution_count": 194,
   "metadata": {},
   "outputs": [],
   "source": [
    "rel_num = 1"
   ]
  },
  {
   "cell_type": "code",
   "execution_count": 195,
   "metadata": {},
   "outputs": [],
   "source": [
    "all_list = []"
   ]
  },
  {
   "cell_type": "code",
   "execution_count": 196,
   "metadata": {},
   "outputs": [],
   "source": [
    "director_combi = director_series.map(lambda x: all_list.extend(list(combinations(x, 2))))"
   ]
  },
  {
   "cell_type": "code",
   "execution_count": 197,
   "metadata": {},
   "outputs": [],
   "source": [
    "director_kg = pd.DataFrame(np.zeros((len(all_list), 3), dtype=np.int32), columns=['h', 'r', 't'])"
   ]
  },
  {
   "cell_type": "code",
   "execution_count": 198,
   "metadata": {},
   "outputs": [],
   "source": [
    "h_list, t_list, r_list = [], [], []"
   ]
  },
  {
   "cell_type": "code",
   "execution_count": 199,
   "metadata": {},
   "outputs": [],
   "source": [
    "for h, t in all_list:\n",
    "    h_list.append(h)\n",
    "    t_list.append(t)\n",
    "r_list = [rel_num] * len(all_list)"
   ]
  },
  {
   "cell_type": "code",
   "execution_count": 200,
   "metadata": {},
   "outputs": [],
   "source": [
    "director_kg['h'] = h_list\n",
    "director_kg['t'] = t_list\n",
    "director_kg['r'] = r_list"
   ]
  },
  {
   "cell_type": "code",
   "execution_count": 201,
   "metadata": {},
   "outputs": [
    {
     "data": {
      "text/html": [
       "<div>\n",
       "<style scoped>\n",
       "    .dataframe tbody tr th:only-of-type {\n",
       "        vertical-align: middle;\n",
       "    }\n",
       "\n",
       "    .dataframe tbody tr th {\n",
       "        vertical-align: top;\n",
       "    }\n",
       "\n",
       "    .dataframe thead th {\n",
       "        text-align: right;\n",
       "    }\n",
       "</style>\n",
       "<table border=\"1\" class=\"dataframe\">\n",
       "  <thead>\n",
       "    <tr style=\"text-align: right;\">\n",
       "      <th></th>\n",
       "      <th>h</th>\n",
       "      <th>r</th>\n",
       "      <th>t</th>\n",
       "    </tr>\n",
       "  </thead>\n",
       "  <tbody>\n",
       "    <tr>\n",
       "      <th>0</th>\n",
       "      <td>1237</td>\n",
       "      <td>1</td>\n",
       "      <td>5147</td>\n",
       "    </tr>\n",
       "    <tr>\n",
       "      <th>1</th>\n",
       "      <td>1237</td>\n",
       "      <td>1</td>\n",
       "      <td>7327</td>\n",
       "    </tr>\n",
       "    <tr>\n",
       "      <th>2</th>\n",
       "      <td>1237</td>\n",
       "      <td>1</td>\n",
       "      <td>2068</td>\n",
       "    </tr>\n",
       "    <tr>\n",
       "      <th>3</th>\n",
       "      <td>1237</td>\n",
       "      <td>1</td>\n",
       "      <td>7396</td>\n",
       "    </tr>\n",
       "    <tr>\n",
       "      <th>4</th>\n",
       "      <td>1237</td>\n",
       "      <td>1</td>\n",
       "      <td>7820</td>\n",
       "    </tr>\n",
       "    <tr>\n",
       "      <th>...</th>\n",
       "      <td>...</td>\n",
       "      <td>...</td>\n",
       "      <td>...</td>\n",
       "    </tr>\n",
       "    <tr>\n",
       "      <th>18890</th>\n",
       "      <td>82461</td>\n",
       "      <td>1</td>\n",
       "      <td>101864</td>\n",
       "    </tr>\n",
       "    <tr>\n",
       "      <th>18891</th>\n",
       "      <td>84273</td>\n",
       "      <td>1</td>\n",
       "      <td>58376</td>\n",
       "    </tr>\n",
       "    <tr>\n",
       "      <th>18892</th>\n",
       "      <td>84273</td>\n",
       "      <td>1</td>\n",
       "      <td>65225</td>\n",
       "    </tr>\n",
       "    <tr>\n",
       "      <th>18893</th>\n",
       "      <td>58376</td>\n",
       "      <td>1</td>\n",
       "      <td>65225</td>\n",
       "    </tr>\n",
       "    <tr>\n",
       "      <th>18894</th>\n",
       "      <td>2394</td>\n",
       "      <td>1</td>\n",
       "      <td>55768</td>\n",
       "    </tr>\n",
       "  </tbody>\n",
       "</table>\n",
       "<p>18895 rows × 3 columns</p>\n",
       "</div>"
      ],
      "text/plain": [
       "           h  r       t\n",
       "0       1237  1    5147\n",
       "1       1237  1    7327\n",
       "2       1237  1    2068\n",
       "3       1237  1    7396\n",
       "4       1237  1    7820\n",
       "...      ... ..     ...\n",
       "18890  82461  1  101864\n",
       "18891  84273  1   58376\n",
       "18892  84273  1   65225\n",
       "18893  58376  1   65225\n",
       "18894   2394  1   55768\n",
       "\n",
       "[18895 rows x 3 columns]"
      ]
     },
     "execution_count": 201,
     "metadata": {},
     "output_type": "execute_result"
    }
   ],
   "source": [
    "director_kg"
   ]
  },
  {
   "cell_type": "code",
   "execution_count": 202,
   "metadata": {},
   "outputs": [],
   "source": [
    "# data_path = '/opt/ml/input/data/train/'\n",
    "# def conversion_kg(data_path:str, attribute:str, rel_num:int = 0):\n",
    "    \n",
    "#     attr = pd.read_csv(data_path + attribute + 's.tsv', sep='\\t')\n",
    "#     attr_series = attr.groupby(attribute).apply(lambda full_rel: list(full_rel.item))\n",
    "    \n",
    "#     all_list = []\n",
    "#     attr_combi = attr_series.map(lambda x: all_list.extend(list(combinations(x, 2))))\n",
    "    \n",
    "#     attr_kg = pd.DataFrame(np.zeros((len(all_list), 3), dtype=np.int32), columns=['h', 'r', 't'])\n",
    "#     h_list, t_list, r_list = [], [], []\n",
    "#     for h, t in all_list:\n",
    "#         h_list.append(h)\n",
    "#         t_list.append(t)\n",
    "#     r_list = [rel_num] * len(all_list)\n",
    "    \n",
    "#     attr_kg['h'] = h_list\n",
    "#     attr_kg['t'] = t_list\n",
    "#     attr_kg['r'] = r_list\n",
    "    \n",
    "#     return attr_kg"
   ]
  },
  {
   "cell_type": "code",
   "execution_count": 203,
   "metadata": {},
   "outputs": [],
   "source": [
    "data_path = '/opt/ml/input/data/train/'\n",
    "def conversion_kg(data_path:str, attribute:str, rel_num:int = 0):\n",
    "    \n",
    "    attr = pd.read_csv(data_path + attribute + 's.tsv', sep='\\t')\n",
    "    attr_series = attr.groupby(attribute).apply(lambda full_rel: list(full_rel.item))\n",
    "    \n",
    "    all_set = set()\n",
    "    attr_combi = attr_series.map(lambda x: all_set | set(combinations(x, 2)))\n",
    "    \n",
    "    attr_kg = pd.DataFrame(np.zeros((len(all_list), 3), dtype=np.int32), columns=['h', 'r', 't'])\n",
    "    h_list, t_list, r_list = [], [], []\n",
    "    for h, t in all_list:\n",
    "        h_list.append(h)\n",
    "        t_list.append(t)\n",
    "    r_list = [rel_num] * len(all_list)\n",
    "    \n",
    "    attr_kg['h'] = h_list\n",
    "    attr_kg['t'] = t_list\n",
    "    attr_kg['r'] = r_list\n",
    "    \n",
    "    return attr_kg"
   ]
  },
  {
   "cell_type": "code",
   "execution_count": 204,
   "metadata": {},
   "outputs": [],
   "source": [
    "rel_dict = {\n",
    "    'director': 0,\n",
    "    'genre': 1,\n",
    "    'writer' : 2,\n",
    "    'year' : 3\n",
    "    }"
   ]
  },
  {
   "cell_type": "code",
   "execution_count": 205,
   "metadata": {},
   "outputs": [],
   "source": [
    "df = pd.DataFrame(columns=['h', 'r', 't'])\n",
    "for key, value in rel_dict.items():\n",
    "    df = pd.concat([df, conversion_kg(data_path, key, value)], ignore_index=True)"
   ]
  },
  {
   "cell_type": "code",
   "execution_count": 206,
   "metadata": {},
   "outputs": [
    {
     "data": {
      "text/html": [
       "<div>\n",
       "<style scoped>\n",
       "    .dataframe tbody tr th:only-of-type {\n",
       "        vertical-align: middle;\n",
       "    }\n",
       "\n",
       "    .dataframe tbody tr th {\n",
       "        vertical-align: top;\n",
       "    }\n",
       "\n",
       "    .dataframe thead th {\n",
       "        text-align: right;\n",
       "    }\n",
       "</style>\n",
       "<table border=\"1\" class=\"dataframe\">\n",
       "  <thead>\n",
       "    <tr style=\"text-align: right;\">\n",
       "      <th></th>\n",
       "      <th>h</th>\n",
       "      <th>r</th>\n",
       "      <th>t</th>\n",
       "    </tr>\n",
       "  </thead>\n",
       "  <tbody>\n",
       "    <tr>\n",
       "      <th>0</th>\n",
       "      <td>1237</td>\n",
       "      <td>0</td>\n",
       "      <td>5147</td>\n",
       "    </tr>\n",
       "    <tr>\n",
       "      <th>1</th>\n",
       "      <td>1237</td>\n",
       "      <td>0</td>\n",
       "      <td>7327</td>\n",
       "    </tr>\n",
       "    <tr>\n",
       "      <th>2</th>\n",
       "      <td>1237</td>\n",
       "      <td>0</td>\n",
       "      <td>2068</td>\n",
       "    </tr>\n",
       "    <tr>\n",
       "      <th>3</th>\n",
       "      <td>1237</td>\n",
       "      <td>0</td>\n",
       "      <td>7396</td>\n",
       "    </tr>\n",
       "    <tr>\n",
       "      <th>4</th>\n",
       "      <td>1237</td>\n",
       "      <td>0</td>\n",
       "      <td>7820</td>\n",
       "    </tr>\n",
       "    <tr>\n",
       "      <th>...</th>\n",
       "      <td>...</td>\n",
       "      <td>...</td>\n",
       "      <td>...</td>\n",
       "    </tr>\n",
       "    <tr>\n",
       "      <th>75575</th>\n",
       "      <td>82461</td>\n",
       "      <td>3</td>\n",
       "      <td>101864</td>\n",
       "    </tr>\n",
       "    <tr>\n",
       "      <th>75576</th>\n",
       "      <td>84273</td>\n",
       "      <td>3</td>\n",
       "      <td>58376</td>\n",
       "    </tr>\n",
       "    <tr>\n",
       "      <th>75577</th>\n",
       "      <td>84273</td>\n",
       "      <td>3</td>\n",
       "      <td>65225</td>\n",
       "    </tr>\n",
       "    <tr>\n",
       "      <th>75578</th>\n",
       "      <td>58376</td>\n",
       "      <td>3</td>\n",
       "      <td>65225</td>\n",
       "    </tr>\n",
       "    <tr>\n",
       "      <th>75579</th>\n",
       "      <td>2394</td>\n",
       "      <td>3</td>\n",
       "      <td>55768</td>\n",
       "    </tr>\n",
       "  </tbody>\n",
       "</table>\n",
       "<p>75580 rows × 3 columns</p>\n",
       "</div>"
      ],
      "text/plain": [
       "           h  r       t\n",
       "0       1237  0    5147\n",
       "1       1237  0    7327\n",
       "2       1237  0    2068\n",
       "3       1237  0    7396\n",
       "4       1237  0    7820\n",
       "...      ... ..     ...\n",
       "75575  82461  3  101864\n",
       "75576  84273  3   58376\n",
       "75577  84273  3   65225\n",
       "75578  58376  3   65225\n",
       "75579   2394  3   55768\n",
       "\n",
       "[75580 rows x 3 columns]"
      ]
     },
     "execution_count": 206,
     "metadata": {},
     "output_type": "execute_result"
    }
   ],
   "source": [
    "df"
   ]
  },
  {
   "cell_type": "code",
   "execution_count": 207,
   "metadata": {},
   "outputs": [],
   "source": [
    "df.to_csv('kg_final.csv', index=False)"
   ]
  },
  {
   "cell_type": "code",
   "execution_count": null,
   "metadata": {},
   "outputs": [],
   "source": []
  },
  {
   "attachments": {},
   "cell_type": "markdown",
   "metadata": {},
   "source": [
    "### train.txt"
   ]
  },
  {
   "cell_type": "code",
   "execution_count": 175,
   "metadata": {},
   "outputs": [],
   "source": [
    "train_split, test_split = train_test_split(train_df, test_size=0.20, train_size=0.80, random_state=42)"
   ]
  },
  {
   "cell_type": "code",
   "execution_count": 176,
   "metadata": {},
   "outputs": [],
   "source": [
    "train = train_split.sort_values(['user', 'time'])\n",
    "test = test_split.sort_values(['user', 'time'])\n"
   ]
  },
  {
   "cell_type": "code",
   "execution_count": 177,
   "metadata": {},
   "outputs": [],
   "source": [
    "def to_string(x):\n",
    "    tmp = ''\n",
    "    for i in x.item:\n",
    "        tmp += str(i) + ' '\n",
    "    return tmp"
   ]
  },
  {
   "cell_type": "code",
   "execution_count": 178,
   "metadata": {},
   "outputs": [],
   "source": [
    "train_srs = train.groupby('user').apply(to_string)\n",
    "test_srs = test.groupby('user').apply(to_string)\n"
   ]
  },
  {
   "cell_type": "code",
   "execution_count": 179,
   "metadata": {},
   "outputs": [],
   "source": [
    "train_df = pd.DataFrame(columns=['user', 'item'])\n",
    "test_df = pd.DataFrame(columns=['user', 'item'])"
   ]
  },
  {
   "cell_type": "code",
   "execution_count": 180,
   "metadata": {},
   "outputs": [],
   "source": [
    "train_df['user'] = list(train_srs.index)\n",
    "train_df['item'] = train_srs.values\n",
    "\n",
    "test_df['user'] = list(test_srs.index)\n",
    "test_df['item'] = test_srs.values"
   ]
  },
  {
   "cell_type": "code",
   "execution_count": 181,
   "metadata": {},
   "outputs": [],
   "source": [
    "train_df.to_csv('train.csv', index=False)\n",
    "test_df.to_csv('test.csv', index=False)"
   ]
  },
  {
   "cell_type": "code",
   "execution_count": 182,
   "metadata": {},
   "outputs": [],
   "source": [
    "def load_cf_df(filename):\n",
    "    user = []\n",
    "    item = []\n",
    "    user_dict = dict()\n",
    "    \n",
    "    df = pd.read_csv(filename)\n",
    "    for u, items in zip(df.user, df.item):\n",
    "        inter = [int(i) for i in items.split()]\n",
    "\n",
    "        if len(inter) > 1:\n",
    "            user_id, item_ids = u, inter\n",
    "            item_ids = list(set(item_ids))\n",
    "\n",
    "            for item_id in item_ids:\n",
    "                user.append(user_id)\n",
    "                item.append(item_id)\n",
    "            user_dict[user_id] = item_ids\n",
    "\n",
    "    user = np.array(user, dtype=np.int32)\n",
    "    item = np.array(item, dtype=np.int32)\n",
    "    return (user, item), user_dict"
   ]
  },
  {
   "cell_type": "code",
   "execution_count": 183,
   "metadata": {},
   "outputs": [],
   "source": [
    "(user, item), user_dict = load_cf_df('/opt/ml/input/exp_ipynb/test.csv')"
   ]
  }
 ],
 "metadata": {
  "kernelspec": {
   "display_name": "recbole",
   "language": "python",
   "name": "python3"
  },
  "language_info": {
   "codemirror_mode": {
    "name": "ipython",
    "version": 3
   },
   "file_extension": ".py",
   "mimetype": "text/x-python",
   "name": "python",
   "nbconvert_exporter": "python",
   "pygments_lexer": "ipython3",
   "version": "3.7.15 (default, Nov 24 2022, 21:12:53) \n[GCC 11.2.0]"
  },
  "orig_nbformat": 4,
  "vscode": {
   "interpreter": {
    "hash": "6a17f5d7f65aafa62cc4054b3c810fbf96b404e241e2b813ba4cd864a199129e"
   }
  }
 },
 "nbformat": 4,
 "nbformat_minor": 2
}
